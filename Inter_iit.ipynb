{
 "cells": [
  {
   "cell_type": "code",
   "execution_count": 1,
   "metadata": {
    "collapsed": true
   },
   "outputs": [],
   "source": [
    "import pandas as pd \n",
    "import numpy as np \n",
    "import matplotlib.pyplot as plt"
   ]
  },
  {
   "cell_type": "code",
   "execution_count": 2,
   "metadata": {
    "collapsed": true
   },
   "outputs": [],
   "source": [
    "data= pd.read_csv(\"ExoTrain.csv\")"
   ]
  },
  {
   "cell_type": "code",
   "execution_count": 4,
   "metadata": {},
   "outputs": [
    {
     "data": {
      "text/html": [
       "<div>\n",
       "<style>\n",
       "    .dataframe thead tr:only-child th {\n",
       "        text-align: right;\n",
       "    }\n",
       "\n",
       "    .dataframe thead th {\n",
       "        text-align: left;\n",
       "    }\n",
       "\n",
       "    .dataframe tbody tr th {\n",
       "        vertical-align: top;\n",
       "    }\n",
       "</style>\n",
       "<table border=\"1\" class=\"dataframe\">\n",
       "  <thead>\n",
       "    <tr style=\"text-align: right;\">\n",
       "      <th></th>\n",
       "      <th>LABEL</th>\n",
       "      <th>FLUX.1</th>\n",
       "      <th>FLUX.2</th>\n",
       "      <th>FLUX.3</th>\n",
       "      <th>FLUX.4</th>\n",
       "      <th>FLUX.5</th>\n",
       "      <th>FLUX.6</th>\n",
       "      <th>FLUX.7</th>\n",
       "      <th>FLUX.8</th>\n",
       "      <th>FLUX.9</th>\n",
       "      <th>...</th>\n",
       "      <th>FLUX.3188</th>\n",
       "      <th>FLUX.3189</th>\n",
       "      <th>FLUX.3190</th>\n",
       "      <th>FLUX.3191</th>\n",
       "      <th>FLUX.3192</th>\n",
       "      <th>FLUX.3193</th>\n",
       "      <th>FLUX.3194</th>\n",
       "      <th>FLUX.3195</th>\n",
       "      <th>FLUX.3196</th>\n",
       "      <th>FLUX.3197</th>\n",
       "    </tr>\n",
       "  </thead>\n",
       "  <tbody>\n",
       "    <tr>\n",
       "      <th>0</th>\n",
       "      <td>2</td>\n",
       "      <td>-38.88</td>\n",
       "      <td>-33.83</td>\n",
       "      <td>-58.54</td>\n",
       "      <td>-40.09</td>\n",
       "      <td>-79.31</td>\n",
       "      <td>-72.81</td>\n",
       "      <td>-86.55</td>\n",
       "      <td>-85.33</td>\n",
       "      <td>-83.97</td>\n",
       "      <td>...</td>\n",
       "      <td>-3.28</td>\n",
       "      <td>-32.21</td>\n",
       "      <td>-32.21</td>\n",
       "      <td>-24.89</td>\n",
       "      <td>-4.86</td>\n",
       "      <td>0.76</td>\n",
       "      <td>-11.7</td>\n",
       "      <td>6.46</td>\n",
       "      <td>16.00</td>\n",
       "      <td>19.93</td>\n",
       "    </tr>\n",
       "    <tr>\n",
       "      <th>1</th>\n",
       "      <td>2</td>\n",
       "      <td>532.64</td>\n",
       "      <td>535.92</td>\n",
       "      <td>513.73</td>\n",
       "      <td>496.92</td>\n",
       "      <td>456.45</td>\n",
       "      <td>466.00</td>\n",
       "      <td>464.50</td>\n",
       "      <td>486.39</td>\n",
       "      <td>436.56</td>\n",
       "      <td>...</td>\n",
       "      <td>-71.69</td>\n",
       "      <td>13.31</td>\n",
       "      <td>13.31</td>\n",
       "      <td>-29.89</td>\n",
       "      <td>-20.88</td>\n",
       "      <td>5.06</td>\n",
       "      <td>-11.8</td>\n",
       "      <td>-28.91</td>\n",
       "      <td>-70.02</td>\n",
       "      <td>-96.67</td>\n",
       "    </tr>\n",
       "  </tbody>\n",
       "</table>\n",
       "<p>2 rows × 3198 columns</p>\n",
       "</div>"
      ],
      "text/plain": [
       "   LABEL  FLUX.1  FLUX.2  FLUX.3  FLUX.4  FLUX.5  FLUX.6  FLUX.7  FLUX.8  \\\n",
       "0      2  -38.88  -33.83  -58.54  -40.09  -79.31  -72.81  -86.55  -85.33   \n",
       "1      2  532.64  535.92  513.73  496.92  456.45  466.00  464.50  486.39   \n",
       "\n",
       "   FLUX.9    ...      FLUX.3188  FLUX.3189  FLUX.3190  FLUX.3191  FLUX.3192  \\\n",
       "0  -83.97    ...          -3.28     -32.21     -32.21     -24.89      -4.86   \n",
       "1  436.56    ...         -71.69      13.31      13.31     -29.89     -20.88   \n",
       "\n",
       "   FLUX.3193  FLUX.3194  FLUX.3195  FLUX.3196  FLUX.3197  \n",
       "0       0.76      -11.7       6.46      16.00      19.93  \n",
       "1       5.06      -11.8     -28.91     -70.02     -96.67  \n",
       "\n",
       "[2 rows x 3198 columns]"
      ]
     },
     "execution_count": 4,
     "metadata": {},
     "output_type": "execute_result"
    }
   ],
   "source": [
    "data.head(2)"
   ]
  },
  {
   "cell_type": "code",
   "execution_count": 5,
   "metadata": {},
   "outputs": [
    {
     "data": {
      "text/plain": [
       "array([2, 1])"
      ]
     },
     "execution_count": 5,
     "metadata": {},
     "output_type": "execute_result"
    }
   ],
   "source": [
    "data.LABEL.unique()"
   ]
  },
  {
   "cell_type": "code",
   "execution_count": 13,
   "metadata": {},
   "outputs": [
    {
     "data": {
      "text/plain": [
       "(33, 3197)"
      ]
     },
     "execution_count": 13,
     "metadata": {},
     "output_type": "execute_result"
    }
   ],
   "source": [
    "data_min= data[data.LABEL==2].iloc[:,1:]\n",
    "data_min.shape"
   ]
  },
  {
   "cell_type": "code",
   "execution_count": 14,
   "metadata": {},
   "outputs": [
    {
     "data": {
      "text/plain": [
       "(3927, 3197)"
      ]
     },
     "execution_count": 14,
     "metadata": {},
     "output_type": "execute_result"
    }
   ],
   "source": [
    "data_maj= data[data.LABEL==1].iloc[:,1:]\n",
    "data_maj.shape"
   ]
  },
  {
   "cell_type": "code",
   "execution_count": 21,
   "metadata": {
    "collapsed": true
   },
   "outputs": [],
   "source": [
    "from sklearn.decomposition import PCA\n",
    "from sklearn import svm\n",
    "from sklearn.neighbors import KNeighborsClassifier as KNC\n",
    "from sklearn.cluster import KMeans\n",
    "from sklearn.preprocessing import Normalizer"
   ]
  },
  {
   "cell_type": "code",
   "execution_count": 29,
   "metadata": {
    "collapsed": true
   },
   "outputs": [],
   "source": [
    "normalizer = Normalizer().fit(data_maj)"
   ]
  },
  {
   "cell_type": "code",
   "execution_count": 37,
   "metadata": {
    "collapsed": true
   },
   "outputs": [],
   "source": [
    "pca= PCA(n_components=2, whiten=True)"
   ]
  },
  {
   "cell_type": "code",
   "execution_count": 47,
   "metadata": {},
   "outputs": [],
   "source": [
    "reduced_maj= pca.fit_transform(data_maj)"
   ]
  },
  {
   "cell_type": "code",
   "execution_count": 50,
   "metadata": {},
   "outputs": [],
   "source": [
    "kmeans = KMeans(init='k-means++', n_clusters=10, n_init=10)"
   ]
  },
  {
   "cell_type": "code",
   "execution_count": 51,
   "metadata": {},
   "outputs": [
    {
     "data": {
      "text/plain": [
       "KMeans(algorithm='auto', copy_x=True, init='k-means++', max_iter=300,\n",
       "    n_clusters=10, n_init=10, n_jobs=1, precompute_distances='auto',\n",
       "    random_state=None, tol=0.0001, verbose=0)"
      ]
     },
     "execution_count": 51,
     "metadata": {},
     "output_type": "execute_result"
    }
   ],
   "source": [
    "kmeans.fit(reduced_maj)"
   ]
  },
  {
   "cell_type": "code",
   "execution_count": 52,
   "metadata": {
    "collapsed": true
   },
   "outputs": [],
   "source": [
    "h = .02"
   ]
  },
  {
   "cell_type": "code",
   "execution_count": 55,
   "metadata": {},
   "outputs": [],
   "source": [
    "x_min, x_max = reduced_maj[:, 0].min() - 1, reduced_maj[:, 0].max() + 1\n",
    "y_min, y_max = reduced_maj[:, 1].min() - 1, reduced_maj[:, 1].max() + 1\n",
    "xx, yy = np.meshgrid(np.arange(x_min, x_max, h), np.arange(y_min, y_max, h))"
   ]
  },
  {
   "cell_type": "code",
   "execution_count": 56,
   "metadata": {
    "collapsed": true
   },
   "outputs": [],
   "source": [
    "Z = kmeans.predict(np.c_[xx.ravel(), yy.ravel()])"
   ]
  },
  {
   "cell_type": "code",
   "execution_count": 63,
   "metadata": {},
   "outputs": [
    {
     "data": {
      "image/png": "[encoded data removed]",
      "text/plain": [
       "<matplotlib.figure.Figure at 0x7fa47c5e81d0>"
      ]
     },
     "metadata": {},
     "output_type": "display_data"
    }
   ],
   "source": [
    "Z = Z.reshape(xx.shape)\n",
    "plt.figure(1)\n",
    "plt.clf()\n",
    "plt.imshow(Z, interpolation='nearest',\n",
    "           extent=(xx.min(), xx.max(), yy.min(), yy.max()),\n",
    "           aspect='auto', origin='lower')\n",
    "\n",
    "plt.plot(reduced_maj[:, 0], reduced_maj[:, 1], 'k.', markersize=1)\n",
    "centroids = kmeans.cluster_centers_\n",
    "plt.scatter(centroids[:, 0], centroids[:, 1],\n",
    "            marker='x', s=169, linewidths=3,\n",
    "            color='w', zorder=10)\n",
    "\n",
    "plt.xlim(x_min, x_max)\n",
    "plt.ylim(y_min, y_max)\n",
    "\n",
    "plt.show()"
   ]
  },
  {
   "cell_type": "code",
   "execution_count": 89,
   "metadata": {},
   "outputs": [
    {
     "name": "stdout",
     "output_type": "stream",
     "text": [
      "cluster label: 0    3905\n",
      "cluster label: 1    1\n",
      "cluster label: 2    1\n",
      "cluster label: 3    1\n",
      "cluster label: 4    1\n",
      "cluster label: 5    4\n",
      "cluster label: 6    1\n",
      "cluster label: 7    9\n",
      "cluster label: 8    2\n",
      "cluster label: 9    1\n"
     ]
    }
   ],
   "source": [
    "for i in range(0,10):\n",
    "    print \"cluster label:\",i, \"  \", np.count_nonzero(np.where(kmeans.labels_==i)[0])"
   ]
  },
  {
   "cell_type": "code",
   "execution_count": 90,
   "metadata": {
    "collapsed": true
   },
   "outputs": [],
   "source": [
    "normalizer = Normalizer().fit(data_min)"
   ]
  },
  {
   "cell_type": "code",
   "execution_count": 91,
   "metadata": {
    "collapsed": true
   },
   "outputs": [],
   "source": [
    "pca= PCA(n_components=2, whiten=True)\n",
    "reduced_min= pca.fit_transform(data_min)"
   ]
  },
  {
   "cell_type": "code",
   "execution_count": 92,
   "metadata": {
    "collapsed": true
   },
   "outputs": [],
   "source": [
    "kmeans = KMeans(init='k-means++', n_clusters=10, n_init=10)"
   ]
  },
  {
   "cell_type": "code",
   "execution_count": 93,
   "metadata": {},
   "outputs": [
    {
     "data": {
      "text/plain": [
       "KMeans(algorithm='auto', copy_x=True, init='k-means++', max_iter=300,\n",
       "    n_clusters=10, n_init=10, n_jobs=1, precompute_distances='auto',\n",
       "    random_state=None, tol=0.0001, verbose=0)"
      ]
     },
     "execution_count": 93,
     "metadata": {},
     "output_type": "execute_result"
    }
   ],
   "source": [
    "kmeans.fit(reduced_min)"
   ]
  },
  {
   "cell_type": "code",
   "execution_count": 94,
   "metadata": {},
   "outputs": [
    {
     "name": "stdout",
     "output_type": "stream",
     "text": [
      "cluster label: 0    16\n",
      "cluster label: 1    1\n",
      "cluster label: 2    1\n",
      "cluster label: 3    1\n",
      "cluster label: 4    1\n",
      "cluster label: 5    1\n",
      "cluster label: 6    5\n",
      "cluster label: 7    2\n",
      "cluster label: 8    1\n",
      "cluster label: 9    3\n"
     ]
    }
   ],
   "source": [
    "for i in range(0,10):\n",
    "    print \"cluster label:\",i, \"  \", np.count_nonzero(np.where(kmeans.labels_==i)[0])"
   ]
  },
  {
   "cell_type": "code",
   "execution_count": 99,
   "metadata": {
    "collapsed": true
   },
   "outputs": [],
   "source": [
    "\n",
    "from sklearn.utils import resample"
   ]
  },
  {
   "cell_type": "code",
   "execution_count": 100,
   "metadata": {},
   "outputs": [],
   "source": [
    "data_maj_downsampled = resample(data_maj, \n",
    "                                 replace=False,    \n",
    "                                 n_samples=1000,     \n",
    "                                 random_state=123)"
   ]
  },
  {
   "cell_type": "code",
   "execution_count": 101,
   "metadata": {
    "collapsed": true
   },
   "outputs": [],
   "source": [
    "data_min_upsampled = resample(data_min, \n",
    "                                 replace=True,    \n",
    "                                 n_samples=200,     \n",
    "                                 random_state=123)"
   ]
  },
  {
   "cell_type": "code",
   "execution_count": 102,
   "metadata": {},
   "outputs": [
    {
     "name": "stderr",
     "output_type": "stream",
     "text": [
      "/home/apoorva/anaconda2/lib/python2.7/site-packages/ipykernel_launcher.py:1: SettingWithCopyWarning: \n",
      "A value is trying to be set on a copy of a slice from a DataFrame.\n",
      "Try using .loc[row_indexer,col_indexer] = value instead\n",
      "\n",
      "See the caveats in the documentation: http://pandas.pydata.org/pandas-docs/stable/indexing.html#indexing-view-versus-copy\n",
      "  \"\"\"Entry point for launching an IPython kernel.\n",
      "/home/apoorva/anaconda2/lib/python2.7/site-packages/ipykernel_launcher.py:2: SettingWithCopyWarning: \n",
      "A value is trying to be set on a copy of a slice from a DataFrame.\n",
      "Try using .loc[row_indexer,col_indexer] = value instead\n",
      "\n",
      "See the caveats in the documentation: http://pandas.pydata.org/pandas-docs/stable/indexing.html#indexing-view-versus-copy\n",
      "  \n"
     ]
    }
   ],
   "source": [
    "data_maj_downsampled[\"LABEL\"]=1\n",
    "data_min_upsampled[\"LABEL\"]=2"
   ]
  },
  {
   "cell_type": "code",
   "execution_count": 103,
   "metadata": {
    "collapsed": true
   },
   "outputs": [],
   "source": [
    "data_new= pd.concat([data_maj_downsampled,data_min_upsampled])"
   ]
  },
  {
   "cell_type": "code",
   "execution_count": 104,
   "metadata": {},
   "outputs": [
    {
     "data": {
      "text/plain": [
       "(1200, 3198)"
      ]
     },
     "execution_count": 104,
     "metadata": {},
     "output_type": "execute_result"
    }
   ],
   "source": [
    "data_new.shape"
   ]
  },
  {
   "cell_type": "code",
   "execution_count": 165,
   "metadata": {},
   "outputs": [
    {
     "data": {
      "text/html": [
       "<div>\n",
       "<style>\n",
       "    .dataframe thead tr:only-child th {\n",
       "        text-align: right;\n",
       "    }\n",
       "\n",
       "    .dataframe thead th {\n",
       "        text-align: left;\n",
       "    }\n",
       "\n",
       "    .dataframe tbody tr th {\n",
       "        vertical-align: top;\n",
       "    }\n",
       "</style>\n",
       "<table border=\"1\" class=\"dataframe\">\n",
       "  <thead>\n",
       "    <tr style=\"text-align: right;\">\n",
       "      <th></th>\n",
       "      <th>FLUX.1</th>\n",
       "      <th>FLUX.2</th>\n",
       "      <th>FLUX.3</th>\n",
       "      <th>FLUX.4</th>\n",
       "      <th>FLUX.5</th>\n",
       "      <th>FLUX.6</th>\n",
       "      <th>FLUX.7</th>\n",
       "      <th>FLUX.8</th>\n",
       "      <th>FLUX.9</th>\n",
       "      <th>FLUX.10</th>\n",
       "      <th>...</th>\n",
       "      <th>FLUX.3189</th>\n",
       "      <th>FLUX.3190</th>\n",
       "      <th>FLUX.3191</th>\n",
       "      <th>FLUX.3192</th>\n",
       "      <th>FLUX.3193</th>\n",
       "      <th>FLUX.3194</th>\n",
       "      <th>FLUX.3195</th>\n",
       "      <th>FLUX.3196</th>\n",
       "      <th>FLUX.3197</th>\n",
       "      <th>LABEL</th>\n",
       "    </tr>\n",
       "  </thead>\n",
       "  <tbody>\n",
       "    <tr>\n",
       "      <th>3132</th>\n",
       "      <td>-25.69</td>\n",
       "      <td>-47.66</td>\n",
       "      <td>-36.47</td>\n",
       "      <td>-28.12</td>\n",
       "      <td>-42.82</td>\n",
       "      <td>-62.66</td>\n",
       "      <td>-65.80</td>\n",
       "      <td>-67.69</td>\n",
       "      <td>-62.04</td>\n",
       "      <td>-74.87</td>\n",
       "      <td>...</td>\n",
       "      <td>-61.30</td>\n",
       "      <td>-101.23</td>\n",
       "      <td>-92.23</td>\n",
       "      <td>-106.22</td>\n",
       "      <td>-99.47</td>\n",
       "      <td>-11.67</td>\n",
       "      <td>6.11</td>\n",
       "      <td>-24.62</td>\n",
       "      <td>-16.70</td>\n",
       "      <td>1</td>\n",
       "    </tr>\n",
       "    <tr>\n",
       "      <th>1534</th>\n",
       "      <td>200.34</td>\n",
       "      <td>200.40</td>\n",
       "      <td>193.34</td>\n",
       "      <td>190.50</td>\n",
       "      <td>212.59</td>\n",
       "      <td>250.53</td>\n",
       "      <td>276.50</td>\n",
       "      <td>257.93</td>\n",
       "      <td>282.59</td>\n",
       "      <td>308.53</td>\n",
       "      <td>...</td>\n",
       "      <td>-359.35</td>\n",
       "      <td>-430.44</td>\n",
       "      <td>-388.28</td>\n",
       "      <td>-413.07</td>\n",
       "      <td>-413.66</td>\n",
       "      <td>-346.47</td>\n",
       "      <td>-324.03</td>\n",
       "      <td>-307.35</td>\n",
       "      <td>-252.25</td>\n",
       "      <td>1</td>\n",
       "    </tr>\n",
       "    <tr>\n",
       "      <th>2398</th>\n",
       "      <td>6068.50</td>\n",
       "      <td>5972.00</td>\n",
       "      <td>5929.75</td>\n",
       "      <td>5889.75</td>\n",
       "      <td>5942.25</td>\n",
       "      <td>6002.25</td>\n",
       "      <td>6012.50</td>\n",
       "      <td>5996.00</td>\n",
       "      <td>5982.25</td>\n",
       "      <td>6033.50</td>\n",
       "      <td>...</td>\n",
       "      <td>351.25</td>\n",
       "      <td>325.75</td>\n",
       "      <td>99.75</td>\n",
       "      <td>-4.50</td>\n",
       "      <td>-96.00</td>\n",
       "      <td>818.50</td>\n",
       "      <td>745.50</td>\n",
       "      <td>655.00</td>\n",
       "      <td>438.50</td>\n",
       "      <td>1</td>\n",
       "    </tr>\n",
       "    <tr>\n",
       "      <th>1237</th>\n",
       "      <td>-2.95</td>\n",
       "      <td>7.87</td>\n",
       "      <td>-19.20</td>\n",
       "      <td>-7.37</td>\n",
       "      <td>-5.67</td>\n",
       "      <td>-25.73</td>\n",
       "      <td>-26.09</td>\n",
       "      <td>-42.60</td>\n",
       "      <td>-29.21</td>\n",
       "      <td>-32.10</td>\n",
       "      <td>...</td>\n",
       "      <td>15.43</td>\n",
       "      <td>-8.69</td>\n",
       "      <td>-15.18</td>\n",
       "      <td>-5.36</td>\n",
       "      <td>-1.77</td>\n",
       "      <td>-8.39</td>\n",
       "      <td>-19.42</td>\n",
       "      <td>-11.89</td>\n",
       "      <td>-27.04</td>\n",
       "      <td>1</td>\n",
       "    </tr>\n",
       "    <tr>\n",
       "      <th>3684</th>\n",
       "      <td>-2355.13</td>\n",
       "      <td>-2208.50</td>\n",
       "      <td>-1876.38</td>\n",
       "      <td>-1719.63</td>\n",
       "      <td>-1287.13</td>\n",
       "      <td>-851.63</td>\n",
       "      <td>-571.13</td>\n",
       "      <td>-77.00</td>\n",
       "      <td>130.24</td>\n",
       "      <td>178.24</td>\n",
       "      <td>...</td>\n",
       "      <td>-379.63</td>\n",
       "      <td>-344.88</td>\n",
       "      <td>-281.76</td>\n",
       "      <td>-263.76</td>\n",
       "      <td>-351.88</td>\n",
       "      <td>-195.00</td>\n",
       "      <td>-398.50</td>\n",
       "      <td>-321.76</td>\n",
       "      <td>-520.76</td>\n",
       "      <td>1</td>\n",
       "    </tr>\n",
       "  </tbody>\n",
       "</table>\n",
       "<p>5 rows × 3198 columns</p>\n",
       "</div>"
      ],
      "text/plain": [
       "       FLUX.1   FLUX.2   FLUX.3   FLUX.4   FLUX.5   FLUX.6   FLUX.7   FLUX.8  \\\n",
       "3132   -25.69   -47.66   -36.47   -28.12   -42.82   -62.66   -65.80   -67.69   \n",
       "1534   200.34   200.40   193.34   190.50   212.59   250.53   276.50   257.93   \n",
       "2398  6068.50  5972.00  5929.75  5889.75  5942.25  6002.25  6012.50  5996.00   \n",
       "1237    -2.95     7.87   -19.20    -7.37    -5.67   -25.73   -26.09   -42.60   \n",
       "3684 -2355.13 -2208.50 -1876.38 -1719.63 -1287.13  -851.63  -571.13   -77.00   \n",
       "\n",
       "       FLUX.9  FLUX.10  ...    FLUX.3189  FLUX.3190  FLUX.3191  FLUX.3192  \\\n",
       "3132   -62.04   -74.87  ...       -61.30    -101.23     -92.23    -106.22   \n",
       "1534   282.59   308.53  ...      -359.35    -430.44    -388.28    -413.07   \n",
       "2398  5982.25  6033.50  ...       351.25     325.75      99.75      -4.50   \n",
       "1237   -29.21   -32.10  ...        15.43      -8.69     -15.18      -5.36   \n",
       "3684   130.24   178.24  ...      -379.63    -344.88    -281.76    -263.76   \n",
       "\n",
       "      FLUX.3193  FLUX.3194  FLUX.3195  FLUX.3196  FLUX.3197  LABEL  \n",
       "3132     -99.47     -11.67       6.11     -24.62     -16.70      1  \n",
       "1534    -413.66    -346.47    -324.03    -307.35    -252.25      1  \n",
       "2398     -96.00     818.50     745.50     655.00     438.50      1  \n",
       "1237      -1.77      -8.39     -19.42     -11.89     -27.04      1  \n",
       "3684    -351.88    -195.00    -398.50    -321.76    -520.76      1  \n",
       "\n",
       "[5 rows x 3198 columns]"
      ]
     },
     "execution_count": 165,
     "metadata": {},
     "output_type": "execute_result"
    }
   ],
   "source": [
    "data_new.head()"
   ]
  },
  {
   "cell_type": "code",
   "execution_count": 197,
   "metadata": {},
   "outputs": [],
   "source": [
    "x=data_new.iloc[:,:-1]\n",
    "y=list(data_new[\"LABEL\"])\n",
    "        "
   ]
  },
  {
   "cell_type": "code",
   "execution_count": 198,
   "metadata": {
    "collapsed": true
   },
   "outputs": [],
   "source": [
    "pca_2= PCA(n_components=20)"
   ]
  },
  {
   "cell_type": "code",
   "execution_count": 199,
   "metadata": {},
   "outputs": [],
   "source": [
    "x= pca_2.fit_transform(x)"
   ]
  },
  {
   "cell_type": "code",
   "execution_count": 200,
   "metadata": {
    "collapsed": true
   },
   "outputs": [],
   "source": [
    "from sklearn.model_selection import train_test_split"
   ]
  },
  {
   "cell_type": "code",
   "execution_count": 201,
   "metadata": {},
   "outputs": [],
   "source": [
    "x_train, x_test, y_train, y_test= train_test_split(x,y, test_size=0.2, random_state=123)"
   ]
  },
  {
   "cell_type": "code",
   "execution_count": 203,
   "metadata": {},
   "outputs": [
    {
     "data": {
      "text/plain": [
       "array([[ -5.73376557e+03,  -2.15841549e+03,  -7.68857024e+03, ...,\n",
       "          6.32224393e+02,  -1.58311742e+03,  -9.11854906e+02],\n",
       "       [ -5.78151039e+03,  -2.14719137e+03,  -7.16987883e+03, ...,\n",
       "          8.62191869e+02,   1.47885554e+02,  -8.54928852e+01],\n",
       "       [ -5.80391384e+03,  -2.10469561e+03,  -7.47456655e+03, ...,\n",
       "         -5.12760339e+01,  -3.92777211e+02,  -2.48716394e+02],\n",
       "       ..., \n",
       "       [ -4.09869494e+03,  -5.49141195e+03,  -6.74769123e+03, ...,\n",
       "          7.79179003e+02,   1.07556978e+03,  -2.07039876e+03],\n",
       "       [ -5.39601881e+03,  -1.99114874e+03,  -8.45356115e+03, ...,\n",
       "         -9.88529012e+02,  -1.42068836e+03,  -1.21433881e+03],\n",
       "       [ -6.37328940e+03,  -2.45230245e+03,  -7.63111668e+03, ...,\n",
       "         -2.15963163e+02,  -7.43980937e+02,   6.18025775e+00]])"
      ]
     },
     "execution_count": 203,
     "metadata": {},
     "output_type": "execute_result"
    }
   ],
   "source": [
    "x_train"
   ]
  },
  {
   "cell_type": "code",
   "execution_count": 204,
   "metadata": {},
   "outputs": [],
   "source": [
    "svc = svm.SVC()"
   ]
  },
  {
   "cell_type": "code",
   "execution_count": 205,
   "metadata": {},
   "outputs": [
    {
     "data": {
      "text/plain": [
       "SVC(C=1.0, cache_size=200, class_weight=None, coef0=0.0,\n",
       "  decision_function_shape=None, degree=3, gamma='auto', kernel='rbf',\n",
       "  max_iter=-1, probability=False, random_state=None, shrinking=True,\n",
       "  tol=0.001, verbose=False)"
      ]
     },
     "execution_count": 205,
     "metadata": {},
     "output_type": "execute_result"
    }
   ],
   "source": [
    "svc.fit(x_train, y_train)"
   ]
  },
  {
   "cell_type": "code",
   "execution_count": 206,
   "metadata": {},
   "outputs": [],
   "source": [
    "y_predicted= svc.predict(x_test)"
   ]
  },
  {
   "cell_type": "code",
   "execution_count": 207,
   "metadata": {},
   "outputs": [],
   "source": [
    "from sklearn import metrics"
   ]
  },
  {
   "cell_type": "code",
   "execution_count": 208,
   "metadata": {},
   "outputs": [
    {
     "name": "stdout",
     "output_type": "stream",
     "text": [
      "1.0\n",
      "[[203   0]\n",
      " [  0  37]]\n"
     ]
    },
    {
     "data": {
      "text/plain": [
       "'             precision    recall  f1-score   support\\n\\n          1       1.00      1.00      1.00       203\\n          2       1.00      1.00      1.00        37\\n\\navg / total       1.00      1.00      1.00       240\\n'"
      ]
     },
     "execution_count": 208,
     "metadata": {},
     "output_type": "execute_result"
    }
   ],
   "source": [
    "print(metrics.accuracy_score(y_test, y_predicted))\n",
    "print(metrics.confusion_matrix(y_test, y_predicted))\n",
    "metrics.classification_report(y_test, y_predicted)"
   ]
  },
  {
   "cell_type": "code",
   "execution_count": 209,
   "metadata": {
    "collapsed": true
   },
   "outputs": [],
   "source": [
    "from xgboost import XGBClassifier"
   ]
  },
  {
   "cell_type": "code",
   "execution_count": 210,
   "metadata": {
    "collapsed": true
   },
   "outputs": [],
   "source": [
    "xgb= XGBClassifier()"
   ]
  },
  {
   "cell_type": "code",
   "execution_count": 211,
   "metadata": {},
   "outputs": [
    {
     "data": {
      "text/plain": [
       "XGBClassifier(base_score=0.5, colsample_bytree=1, gamma=0, learning_rate=0.1,\n",
       "       max_delta_step=0, max_depth=3, min_child_weight=1, missing=None,\n",
       "       n_estimators=100, nthread=-1, objective='binary:logistic', seed=0,\n",
       "       silent=True, subsample=1)"
      ]
     },
     "execution_count": 211,
     "metadata": {},
     "output_type": "execute_result"
    }
   ],
   "source": [
    "xgb.fit(x_train, y_train)"
   ]
  },
  {
   "cell_type": "code",
   "execution_count": 212,
   "metadata": {
    "collapsed": true
   },
   "outputs": [],
   "source": [
    "y_predicted= xgb.predict(x_test)"
   ]
  },
  {
   "cell_type": "code",
   "execution_count": 213,
   "metadata": {},
   "outputs": [
    {
     "name": "stdout",
     "output_type": "stream",
     "text": [
      "1.0\n",
      "[[203   0]\n",
      " [  0  37]]\n"
     ]
    },
    {
     "data": {
      "text/plain": [
       "'             precision    recall  f1-score   support\\n\\n          1       1.00      1.00      1.00       203\\n          2       1.00      1.00      1.00        37\\n\\navg / total       1.00      1.00      1.00       240\\n'"
      ]
     },
     "execution_count": 213,
     "metadata": {},
     "output_type": "execute_result"
    }
   ],
   "source": [
    "print(metrics.accuracy_score(y_test, y_predicted))\n",
    "print(metrics.confusion_matrix(y_test, y_predicted))\n",
    "metrics.classification_report(y_test, y_predicted)"
   ]
  },
  {
   "cell_type": "code",
   "execution_count": 214,
   "metadata": {
    "collapsed": true
   },
   "outputs": [],
   "source": [
    "reduced_data =pca.fit_transform(x)"
   ]
  },
  {
   "cell_type": "code",
   "execution_count": 215,
   "metadata": {},
   "outputs": [],
   "source": [
    "svmClassifier_2d=svc.fit(reduced_data, y)"
   ]
  },
  {
   "cell_type": "code",
   "execution_count": 219,
   "metadata": {},
   "outputs": [
    {
     "data": {
      "image/png": "[encoded data removed]",
      "text/plain": [
       "<matplotlib.figure.Figure at 0x7fa47c69fed0>"
      ]
     },
     "metadata": {},
     "output_type": "display_data"
    },
    {
     "data": {
      "image/png": "[encoded data removed]",
      "text/plain": [
       "<matplotlib.figure.Figure at 0x7fa47c692250>"
      ]
     },
     "metadata": {},
     "output_type": "display_data"
    },
    {
     "ename": "KeyboardInterrupt",
     "evalue": "",
     "output_type": "error",
     "traceback": [
      "\u001b[0;31m---------------------------------------------------------------------------\u001b[0m",
      "\u001b[0;31mKeyboardInterrupt\u001b[0m                         Traceback (most recent call last)",
      "\u001b[0;32m<ipython-input-219-734ffde9ce39>\u001b[0m in \u001b[0;36m<module>\u001b[0;34m()\u001b[0m\n\u001b[1;32m      7\u001b[0m     \u001b[0my_min\u001b[0m\u001b[0;34m,\u001b[0m \u001b[0my_max\u001b[0m \u001b[0;34m=\u001b[0m \u001b[0mreduced_data\u001b[0m\u001b[0;34m[\u001b[0m\u001b[0;34m:\u001b[0m\u001b[0;34m,\u001b[0m \u001b[0;36m1\u001b[0m\u001b[0;34m]\u001b[0m\u001b[0;34m.\u001b[0m\u001b[0mmin\u001b[0m\u001b[0;34m(\u001b[0m\u001b[0;34m)\u001b[0m \u001b[0;34m-\u001b[0m \u001b[0;36m1\u001b[0m\u001b[0;34m,\u001b[0m   \u001b[0mreduced_data\u001b[0m\u001b[0;34m[\u001b[0m\u001b[0;34m:\u001b[0m\u001b[0;34m,\u001b[0m \u001b[0;36m1\u001b[0m\u001b[0;34m]\u001b[0m\u001b[0;34m.\u001b[0m\u001b[0mmax\u001b[0m\u001b[0;34m(\u001b[0m\u001b[0;34m)\u001b[0m \u001b[0;34m+\u001b[0m \u001b[0;36m1\u001b[0m\u001b[0;34m\u001b[0m\u001b[0m\n\u001b[1;32m      8\u001b[0m     \u001b[0mxx\u001b[0m\u001b[0;34m,\u001b[0m \u001b[0myy\u001b[0m \u001b[0;34m=\u001b[0m \u001b[0mnp\u001b[0m\u001b[0;34m.\u001b[0m\u001b[0mmeshgrid\u001b[0m\u001b[0;34m(\u001b[0m\u001b[0mnp\u001b[0m\u001b[0;34m.\u001b[0m\u001b[0marange\u001b[0m\u001b[0;34m(\u001b[0m\u001b[0mx_min\u001b[0m\u001b[0;34m,\u001b[0m \u001b[0mx_max\u001b[0m\u001b[0;34m,\u001b[0m \u001b[0;36m.01\u001b[0m\u001b[0;34m)\u001b[0m\u001b[0;34m,\u001b[0m   \u001b[0mnp\u001b[0m\u001b[0;34m.\u001b[0m\u001b[0marange\u001b[0m\u001b[0;34m(\u001b[0m\u001b[0my_min\u001b[0m\u001b[0;34m,\u001b[0m \u001b[0my_max\u001b[0m\u001b[0;34m,\u001b[0m \u001b[0;36m.01\u001b[0m\u001b[0;34m)\u001b[0m\u001b[0;34m)\u001b[0m\u001b[0;34m\u001b[0m\u001b[0m\n\u001b[0;32m----> 9\u001b[0;31m     \u001b[0mZ\u001b[0m \u001b[0;34m=\u001b[0m \u001b[0msvmClassifier_2d\u001b[0m\u001b[0;34m.\u001b[0m\u001b[0mpredict\u001b[0m\u001b[0;34m(\u001b[0m\u001b[0mnp\u001b[0m\u001b[0;34m.\u001b[0m\u001b[0mc_\u001b[0m\u001b[0;34m[\u001b[0m\u001b[0mxx\u001b[0m\u001b[0;34m.\u001b[0m\u001b[0mravel\u001b[0m\u001b[0;34m(\u001b[0m\u001b[0;34m)\u001b[0m\u001b[0;34m,\u001b[0m  \u001b[0myy\u001b[0m\u001b[0;34m.\u001b[0m\u001b[0mravel\u001b[0m\u001b[0;34m(\u001b[0m\u001b[0;34m)\u001b[0m\u001b[0;34m]\u001b[0m\u001b[0;34m)\u001b[0m\u001b[0;34m\u001b[0m\u001b[0m\n\u001b[0m\u001b[1;32m     10\u001b[0m     \u001b[0mZ\u001b[0m \u001b[0;34m=\u001b[0m \u001b[0mZ\u001b[0m\u001b[0;34m.\u001b[0m\u001b[0mreshape\u001b[0m\u001b[0;34m(\u001b[0m\u001b[0mxx\u001b[0m\u001b[0;34m.\u001b[0m\u001b[0mshape\u001b[0m\u001b[0;34m)\u001b[0m\u001b[0;34m\u001b[0m\u001b[0m\n\u001b[1;32m     11\u001b[0m     \u001b[0mplt\u001b[0m\u001b[0;34m.\u001b[0m\u001b[0mcontour\u001b[0m\u001b[0;34m(\u001b[0m\u001b[0mxx\u001b[0m\u001b[0;34m,\u001b[0m \u001b[0myy\u001b[0m\u001b[0;34m,\u001b[0m \u001b[0mZ\u001b[0m\u001b[0;34m)\u001b[0m\u001b[0;34m\u001b[0m\u001b[0m\n",
      "\u001b[0;32m/home/apoorva/anaconda2/lib/python2.7/site-packages/sklearn/svm/base.pyc\u001b[0m in \u001b[0;36mpredict\u001b[0;34m(self, X)\u001b[0m\n\u001b[1;32m    571\u001b[0m             \u001b[0mClass\u001b[0m \u001b[0mlabels\u001b[0m \u001b[0;32mfor\u001b[0m \u001b[0msamples\u001b[0m \u001b[0;32min\u001b[0m \u001b[0mX\u001b[0m\u001b[0;34m.\u001b[0m\u001b[0;34m\u001b[0m\u001b[0m\n\u001b[1;32m    572\u001b[0m         \"\"\"\n\u001b[0;32m--> 573\u001b[0;31m         \u001b[0my\u001b[0m \u001b[0;34m=\u001b[0m \u001b[0msuper\u001b[0m\u001b[0;34m(\u001b[0m\u001b[0mBaseSVC\u001b[0m\u001b[0;34m,\u001b[0m \u001b[0mself\u001b[0m\u001b[0;34m)\u001b[0m\u001b[0;34m.\u001b[0m\u001b[0mpredict\u001b[0m\u001b[0;34m(\u001b[0m\u001b[0mX\u001b[0m\u001b[0;34m)\u001b[0m\u001b[0;34m\u001b[0m\u001b[0m\n\u001b[0m\u001b[1;32m    574\u001b[0m         \u001b[0;32mreturn\u001b[0m \u001b[0mself\u001b[0m\u001b[0;34m.\u001b[0m\u001b[0mclasses_\u001b[0m\u001b[0;34m.\u001b[0m\u001b[0mtake\u001b[0m\u001b[0;34m(\u001b[0m\u001b[0mnp\u001b[0m\u001b[0;34m.\u001b[0m\u001b[0masarray\u001b[0m\u001b[0;34m(\u001b[0m\u001b[0my\u001b[0m\u001b[0;34m,\u001b[0m \u001b[0mdtype\u001b[0m\u001b[0;34m=\u001b[0m\u001b[0mnp\u001b[0m\u001b[0;34m.\u001b[0m\u001b[0mintp\u001b[0m\u001b[0;34m)\u001b[0m\u001b[0;34m)\u001b[0m\u001b[0;34m\u001b[0m\u001b[0m\n\u001b[1;32m    575\u001b[0m \u001b[0;34m\u001b[0m\u001b[0m\n",
      "\u001b[0;32m/home/apoorva/anaconda2/lib/python2.7/site-packages/sklearn/svm/base.pyc\u001b[0m in \u001b[0;36mpredict\u001b[0;34m(self, X)\u001b[0m\n\u001b[1;32m    310\u001b[0m         \u001b[0mX\u001b[0m \u001b[0;34m=\u001b[0m \u001b[0mself\u001b[0m\u001b[0;34m.\u001b[0m\u001b[0m_validate_for_predict\u001b[0m\u001b[0;34m(\u001b[0m\u001b[0mX\u001b[0m\u001b[0;34m)\u001b[0m\u001b[0;34m\u001b[0m\u001b[0m\n\u001b[1;32m    311\u001b[0m         \u001b[0mpredict\u001b[0m \u001b[0;34m=\u001b[0m \u001b[0mself\u001b[0m\u001b[0;34m.\u001b[0m\u001b[0m_sparse_predict\u001b[0m \u001b[0;32mif\u001b[0m \u001b[0mself\u001b[0m\u001b[0;34m.\u001b[0m\u001b[0m_sparse\u001b[0m \u001b[0;32melse\u001b[0m \u001b[0mself\u001b[0m\u001b[0;34m.\u001b[0m\u001b[0m_dense_predict\u001b[0m\u001b[0;34m\u001b[0m\u001b[0m\n\u001b[0;32m--> 312\u001b[0;31m         \u001b[0;32mreturn\u001b[0m \u001b[0mpredict\u001b[0m\u001b[0;34m(\u001b[0m\u001b[0mX\u001b[0m\u001b[0;34m)\u001b[0m\u001b[0;34m\u001b[0m\u001b[0m\n\u001b[0m\u001b[1;32m    313\u001b[0m \u001b[0;34m\u001b[0m\u001b[0m\n\u001b[1;32m    314\u001b[0m     \u001b[0;32mdef\u001b[0m \u001b[0m_dense_predict\u001b[0m\u001b[0;34m(\u001b[0m\u001b[0mself\u001b[0m\u001b[0;34m,\u001b[0m \u001b[0mX\u001b[0m\u001b[0;34m)\u001b[0m\u001b[0;34m:\u001b[0m\u001b[0;34m\u001b[0m\u001b[0m\n",
      "\u001b[0;32m/home/apoorva/anaconda2/lib/python2.7/site-packages/sklearn/svm/base.pyc\u001b[0m in \u001b[0;36m_dense_predict\u001b[0;34m(self, X)\u001b[0m\n\u001b[1;32m    333\u001b[0m             \u001b[0mself\u001b[0m\u001b[0;34m.\u001b[0m\u001b[0mprobA_\u001b[0m\u001b[0;34m,\u001b[0m \u001b[0mself\u001b[0m\u001b[0;34m.\u001b[0m\u001b[0mprobB_\u001b[0m\u001b[0;34m,\u001b[0m \u001b[0msvm_type\u001b[0m\u001b[0;34m=\u001b[0m\u001b[0msvm_type\u001b[0m\u001b[0;34m,\u001b[0m \u001b[0mkernel\u001b[0m\u001b[0;34m=\u001b[0m\u001b[0mkernel\u001b[0m\u001b[0;34m,\u001b[0m\u001b[0;34m\u001b[0m\u001b[0m\n\u001b[1;32m    334\u001b[0m             \u001b[0mdegree\u001b[0m\u001b[0;34m=\u001b[0m\u001b[0mself\u001b[0m\u001b[0;34m.\u001b[0m\u001b[0mdegree\u001b[0m\u001b[0;34m,\u001b[0m \u001b[0mcoef0\u001b[0m\u001b[0;34m=\u001b[0m\u001b[0mself\u001b[0m\u001b[0;34m.\u001b[0m\u001b[0mcoef0\u001b[0m\u001b[0;34m,\u001b[0m \u001b[0mgamma\u001b[0m\u001b[0;34m=\u001b[0m\u001b[0mself\u001b[0m\u001b[0;34m.\u001b[0m\u001b[0m_gamma\u001b[0m\u001b[0;34m,\u001b[0m\u001b[0;34m\u001b[0m\u001b[0m\n\u001b[0;32m--> 335\u001b[0;31m             cache_size=self.cache_size)\n\u001b[0m\u001b[1;32m    336\u001b[0m \u001b[0;34m\u001b[0m\u001b[0m\n\u001b[1;32m    337\u001b[0m     \u001b[0;32mdef\u001b[0m \u001b[0m_sparse_predict\u001b[0m\u001b[0;34m(\u001b[0m\u001b[0mself\u001b[0m\u001b[0;34m,\u001b[0m \u001b[0mX\u001b[0m\u001b[0;34m)\u001b[0m\u001b[0;34m:\u001b[0m\u001b[0;34m\u001b[0m\u001b[0m\n",
      "\u001b[0;31mKeyboardInterrupt\u001b[0m: "
     ]
    }
   ],
   "source": [
    "for i in range(0, reduced_data.shape[0]):\n",
    "    if y[i] == 1:\n",
    "        c1 = plt.scatter(reduced_data[i,0],reduced_data[i,1],c='g',    s=50,marker='o')\n",
    "    elif y[i] == 2:\n",
    "        c2 = plt.scatter(reduced_data[i,0],reduced_data[i,1],c='b',    s=50,marker='*')\n",
    "    x_min, x_max = reduced_data[:, 0].min() - 1,   reduced_data[:,0].max() + 1\n",
    "    y_min, y_max = reduced_data[:, 1].min() - 1,   reduced_data[:, 1].max() + 1\n",
    "    xx, yy = np.meshgrid(np.arange(x_min, x_max, .01),   np.arange(y_min, y_max, .01))\n",
    "    Z = svmClassifier_2d.predict(np.c_[xx.ravel(),  yy.ravel()])\n",
    "    Z = Z.reshape(xx.shape)\n",
    "    plt.contour(xx, yy, Z)\n",
    "    plt.title('Support Vector Machine Decision Surface')\n",
    "    plt.axis('off')\n",
    "    plt.show()"
   ]
  },
  {
   "cell_type": "code",
   "execution_count": 224,
   "metadata": {},
   "outputs": [],
   "source": [
    "from sklearn.ensemble import ExtraTreesClassifier\n",
    "from sklearn.feature_selection import SelectFromModel\n",
    "\n",
    "clf = ExtraTreesClassifier()\n",
    "clf = clf.fit(data_new.iloc[:,:-1], y)\n",
    "features= pd.DataFrame({\n",
    "    \"importance\":clf.feature_importances_,\n",
    "    \"columns\":data_new.iloc[:,:-1].columns\n",
    "})"
   ]
  },
  {
   "cell_type": "code",
   "execution_count": 231,
   "metadata": {},
   "outputs": [
    {
     "data": {
      "text/html": [
       "<div>\n",
       "<style>\n",
       "    .dataframe thead tr:only-child th {\n",
       "        text-align: right;\n",
       "    }\n",
       "\n",
       "    .dataframe thead th {\n",
       "        text-align: left;\n",
       "    }\n",
       "\n",
       "    .dataframe tbody tr th {\n",
       "        vertical-align: top;\n",
       "    }\n",
       "</style>\n",
       "<table border=\"1\" class=\"dataframe\">\n",
       "  <thead>\n",
       "    <tr style=\"text-align: right;\">\n",
       "      <th></th>\n",
       "      <th>columns</th>\n",
       "      <th>importance</th>\n",
       "    </tr>\n",
       "  </thead>\n",
       "  <tbody>\n",
       "    <tr>\n",
       "      <th>2346</th>\n",
       "      <td>FLUX.2347</td>\n",
       "      <td>0.014149</td>\n",
       "    </tr>\n",
       "    <tr>\n",
       "      <th>500</th>\n",
       "      <td>FLUX.501</td>\n",
       "      <td>0.008539</td>\n",
       "    </tr>\n",
       "    <tr>\n",
       "      <th>216</th>\n",
       "      <td>FLUX.217</td>\n",
       "      <td>0.007977</td>\n",
       "    </tr>\n",
       "    <tr>\n",
       "      <th>523</th>\n",
       "      <td>FLUX.524</td>\n",
       "      <td>0.007298</td>\n",
       "    </tr>\n",
       "    <tr>\n",
       "      <th>1505</th>\n",
       "      <td>FLUX.1506</td>\n",
       "      <td>0.007011</td>\n",
       "    </tr>\n",
       "    <tr>\n",
       "      <th>2476</th>\n",
       "      <td>FLUX.2477</td>\n",
       "      <td>0.006664</td>\n",
       "    </tr>\n",
       "    <tr>\n",
       "      <th>812</th>\n",
       "      <td>FLUX.813</td>\n",
       "      <td>0.006544</td>\n",
       "    </tr>\n",
       "    <tr>\n",
       "      <th>1587</th>\n",
       "      <td>FLUX.1588</td>\n",
       "      <td>0.006370</td>\n",
       "    </tr>\n",
       "    <tr>\n",
       "      <th>3169</th>\n",
       "      <td>FLUX.3170</td>\n",
       "      <td>0.006138</td>\n",
       "    </tr>\n",
       "    <tr>\n",
       "      <th>85</th>\n",
       "      <td>FLUX.86</td>\n",
       "      <td>0.006003</td>\n",
       "    </tr>\n",
       "    <tr>\n",
       "      <th>1552</th>\n",
       "      <td>FLUX.1553</td>\n",
       "      <td>0.005943</td>\n",
       "    </tr>\n",
       "    <tr>\n",
       "      <th>999</th>\n",
       "      <td>FLUX.1000</td>\n",
       "      <td>0.005564</td>\n",
       "    </tr>\n",
       "    <tr>\n",
       "      <th>2816</th>\n",
       "      <td>FLUX.2817</td>\n",
       "      <td>0.005318</td>\n",
       "    </tr>\n",
       "    <tr>\n",
       "      <th>3121</th>\n",
       "      <td>FLUX.3122</td>\n",
       "      <td>0.005275</td>\n",
       "    </tr>\n",
       "    <tr>\n",
       "      <th>1669</th>\n",
       "      <td>FLUX.1670</td>\n",
       "      <td>0.005267</td>\n",
       "    </tr>\n",
       "    <tr>\n",
       "      <th>694</th>\n",
       "      <td>FLUX.695</td>\n",
       "      <td>0.004930</td>\n",
       "    </tr>\n",
       "    <tr>\n",
       "      <th>424</th>\n",
       "      <td>FLUX.425</td>\n",
       "      <td>0.004888</td>\n",
       "    </tr>\n",
       "    <tr>\n",
       "      <th>2006</th>\n",
       "      <td>FLUX.2007</td>\n",
       "      <td>0.004873</td>\n",
       "    </tr>\n",
       "    <tr>\n",
       "      <th>2709</th>\n",
       "      <td>FLUX.2710</td>\n",
       "      <td>0.004722</td>\n",
       "    </tr>\n",
       "    <tr>\n",
       "      <th>1860</th>\n",
       "      <td>FLUX.1861</td>\n",
       "      <td>0.004599</td>\n",
       "    </tr>\n",
       "    <tr>\n",
       "      <th>1707</th>\n",
       "      <td>FLUX.1708</td>\n",
       "      <td>0.004578</td>\n",
       "    </tr>\n",
       "    <tr>\n",
       "      <th>1712</th>\n",
       "      <td>FLUX.1713</td>\n",
       "      <td>0.004573</td>\n",
       "    </tr>\n",
       "    <tr>\n",
       "      <th>1047</th>\n",
       "      <td>FLUX.1048</td>\n",
       "      <td>0.004413</td>\n",
       "    </tr>\n",
       "    <tr>\n",
       "      <th>2278</th>\n",
       "      <td>FLUX.2279</td>\n",
       "      <td>0.004385</td>\n",
       "    </tr>\n",
       "    <tr>\n",
       "      <th>899</th>\n",
       "      <td>FLUX.900</td>\n",
       "      <td>0.004338</td>\n",
       "    </tr>\n",
       "    <tr>\n",
       "      <th>1045</th>\n",
       "      <td>FLUX.1046</td>\n",
       "      <td>0.004260</td>\n",
       "    </tr>\n",
       "    <tr>\n",
       "      <th>1101</th>\n",
       "      <td>FLUX.1102</td>\n",
       "      <td>0.004122</td>\n",
       "    </tr>\n",
       "    <tr>\n",
       "      <th>97</th>\n",
       "      <td>FLUX.98</td>\n",
       "      <td>0.004059</td>\n",
       "    </tr>\n",
       "    <tr>\n",
       "      <th>1827</th>\n",
       "      <td>FLUX.1828</td>\n",
       "      <td>0.004048</td>\n",
       "    </tr>\n",
       "    <tr>\n",
       "      <th>2383</th>\n",
       "      <td>FLUX.2384</td>\n",
       "      <td>0.004046</td>\n",
       "    </tr>\n",
       "    <tr>\n",
       "      <th>...</th>\n",
       "      <td>...</td>\n",
       "      <td>...</td>\n",
       "    </tr>\n",
       "    <tr>\n",
       "      <th>1189</th>\n",
       "      <td>FLUX.1190</td>\n",
       "      <td>0.000000</td>\n",
       "    </tr>\n",
       "    <tr>\n",
       "      <th>1190</th>\n",
       "      <td>FLUX.1191</td>\n",
       "      <td>0.000000</td>\n",
       "    </tr>\n",
       "    <tr>\n",
       "      <th>1191</th>\n",
       "      <td>FLUX.1192</td>\n",
       "      <td>0.000000</td>\n",
       "    </tr>\n",
       "    <tr>\n",
       "      <th>1192</th>\n",
       "      <td>FLUX.1193</td>\n",
       "      <td>0.000000</td>\n",
       "    </tr>\n",
       "    <tr>\n",
       "      <th>1193</th>\n",
       "      <td>FLUX.1194</td>\n",
       "      <td>0.000000</td>\n",
       "    </tr>\n",
       "    <tr>\n",
       "      <th>1194</th>\n",
       "      <td>FLUX.1195</td>\n",
       "      <td>0.000000</td>\n",
       "    </tr>\n",
       "    <tr>\n",
       "      <th>1195</th>\n",
       "      <td>FLUX.1196</td>\n",
       "      <td>0.000000</td>\n",
       "    </tr>\n",
       "    <tr>\n",
       "      <th>1174</th>\n",
       "      <td>FLUX.1175</td>\n",
       "      <td>0.000000</td>\n",
       "    </tr>\n",
       "    <tr>\n",
       "      <th>1172</th>\n",
       "      <td>FLUX.1173</td>\n",
       "      <td>0.000000</td>\n",
       "    </tr>\n",
       "    <tr>\n",
       "      <th>1150</th>\n",
       "      <td>FLUX.1151</td>\n",
       "      <td>0.000000</td>\n",
       "    </tr>\n",
       "    <tr>\n",
       "      <th>1160</th>\n",
       "      <td>FLUX.1161</td>\n",
       "      <td>0.000000</td>\n",
       "    </tr>\n",
       "    <tr>\n",
       "      <th>1151</th>\n",
       "      <td>FLUX.1152</td>\n",
       "      <td>0.000000</td>\n",
       "    </tr>\n",
       "    <tr>\n",
       "      <th>1153</th>\n",
       "      <td>FLUX.1154</td>\n",
       "      <td>0.000000</td>\n",
       "    </tr>\n",
       "    <tr>\n",
       "      <th>1154</th>\n",
       "      <td>FLUX.1155</td>\n",
       "      <td>0.000000</td>\n",
       "    </tr>\n",
       "    <tr>\n",
       "      <th>1155</th>\n",
       "      <td>FLUX.1156</td>\n",
       "      <td>0.000000</td>\n",
       "    </tr>\n",
       "    <tr>\n",
       "      <th>1156</th>\n",
       "      <td>FLUX.1157</td>\n",
       "      <td>0.000000</td>\n",
       "    </tr>\n",
       "    <tr>\n",
       "      <th>1157</th>\n",
       "      <td>FLUX.1158</td>\n",
       "      <td>0.000000</td>\n",
       "    </tr>\n",
       "    <tr>\n",
       "      <th>1158</th>\n",
       "      <td>FLUX.1159</td>\n",
       "      <td>0.000000</td>\n",
       "    </tr>\n",
       "    <tr>\n",
       "      <th>1159</th>\n",
       "      <td>FLUX.1160</td>\n",
       "      <td>0.000000</td>\n",
       "    </tr>\n",
       "    <tr>\n",
       "      <th>1161</th>\n",
       "      <td>FLUX.1162</td>\n",
       "      <td>0.000000</td>\n",
       "    </tr>\n",
       "    <tr>\n",
       "      <th>1170</th>\n",
       "      <td>FLUX.1171</td>\n",
       "      <td>0.000000</td>\n",
       "    </tr>\n",
       "    <tr>\n",
       "      <th>1162</th>\n",
       "      <td>FLUX.1163</td>\n",
       "      <td>0.000000</td>\n",
       "    </tr>\n",
       "    <tr>\n",
       "      <th>1163</th>\n",
       "      <td>FLUX.1164</td>\n",
       "      <td>0.000000</td>\n",
       "    </tr>\n",
       "    <tr>\n",
       "      <th>1164</th>\n",
       "      <td>FLUX.1165</td>\n",
       "      <td>0.000000</td>\n",
       "    </tr>\n",
       "    <tr>\n",
       "      <th>1165</th>\n",
       "      <td>FLUX.1166</td>\n",
       "      <td>0.000000</td>\n",
       "    </tr>\n",
       "    <tr>\n",
       "      <th>1166</th>\n",
       "      <td>FLUX.1167</td>\n",
       "      <td>0.000000</td>\n",
       "    </tr>\n",
       "    <tr>\n",
       "      <th>1167</th>\n",
       "      <td>FLUX.1168</td>\n",
       "      <td>0.000000</td>\n",
       "    </tr>\n",
       "    <tr>\n",
       "      <th>1168</th>\n",
       "      <td>FLUX.1169</td>\n",
       "      <td>0.000000</td>\n",
       "    </tr>\n",
       "    <tr>\n",
       "      <th>1169</th>\n",
       "      <td>FLUX.1170</td>\n",
       "      <td>0.000000</td>\n",
       "    </tr>\n",
       "    <tr>\n",
       "      <th>3196</th>\n",
       "      <td>FLUX.3197</td>\n",
       "      <td>0.000000</td>\n",
       "    </tr>\n",
       "  </tbody>\n",
       "</table>\n",
       "<p>3197 rows × 2 columns</p>\n",
       "</div>"
      ],
      "text/plain": [
       "        columns  importance\n",
       "2346  FLUX.2347    0.014149\n",
       "500    FLUX.501    0.008539\n",
       "216    FLUX.217    0.007977\n",
       "523    FLUX.524    0.007298\n",
       "1505  FLUX.1506    0.007011\n",
       "2476  FLUX.2477    0.006664\n",
       "812    FLUX.813    0.006544\n",
       "1587  FLUX.1588    0.006370\n",
       "3169  FLUX.3170    0.006138\n",
       "85      FLUX.86    0.006003\n",
       "1552  FLUX.1553    0.005943\n",
       "999   FLUX.1000    0.005564\n",
       "2816  FLUX.2817    0.005318\n",
       "3121  FLUX.3122    0.005275\n",
       "1669  FLUX.1670    0.005267\n",
       "694    FLUX.695    0.004930\n",
       "424    FLUX.425    0.004888\n",
       "2006  FLUX.2007    0.004873\n",
       "2709  FLUX.2710    0.004722\n",
       "1860  FLUX.1861    0.004599\n",
       "1707  FLUX.1708    0.004578\n",
       "1712  FLUX.1713    0.004573\n",
       "1047  FLUX.1048    0.004413\n",
       "2278  FLUX.2279    0.004385\n",
       "899    FLUX.900    0.004338\n",
       "1045  FLUX.1046    0.004260\n",
       "1101  FLUX.1102    0.004122\n",
       "97      FLUX.98    0.004059\n",
       "1827  FLUX.1828    0.004048\n",
       "2383  FLUX.2384    0.004046\n",
       "...         ...         ...\n",
       "1189  FLUX.1190    0.000000\n",
       "1190  FLUX.1191    0.000000\n",
       "1191  FLUX.1192    0.000000\n",
       "1192  FLUX.1193    0.000000\n",
       "1193  FLUX.1194    0.000000\n",
       "1194  FLUX.1195    0.000000\n",
       "1195  FLUX.1196    0.000000\n",
       "1174  FLUX.1175    0.000000\n",
       "1172  FLUX.1173    0.000000\n",
       "1150  FLUX.1151    0.000000\n",
       "1160  FLUX.1161    0.000000\n",
       "1151  FLUX.1152    0.000000\n",
       "1153  FLUX.1154    0.000000\n",
       "1154  FLUX.1155    0.000000\n",
       "1155  FLUX.1156    0.000000\n",
       "1156  FLUX.1157    0.000000\n",
       "1157  FLUX.1158    0.000000\n",
       "1158  FLUX.1159    0.000000\n",
       "1159  FLUX.1160    0.000000\n",
       "1161  FLUX.1162    0.000000\n",
       "1170  FLUX.1171    0.000000\n",
       "1162  FLUX.1163    0.000000\n",
       "1163  FLUX.1164    0.000000\n",
       "1164  FLUX.1165    0.000000\n",
       "1165  FLUX.1166    0.000000\n",
       "1166  FLUX.1167    0.000000\n",
       "1167  FLUX.1168    0.000000\n",
       "1168  FLUX.1169    0.000000\n",
       "1169  FLUX.1170    0.000000\n",
       "3196  FLUX.3197    0.000000\n",
       "\n",
       "[3197 rows x 2 columns]"
      ]
     },
     "execution_count": 231,
     "metadata": {},
     "output_type": "execute_result"
    }
   ],
   "source": [
    "features.sort_values([\"importance\"], axis=0, ascending=False)"
   ]
  },
  {
   "cell_type": "code",
   "execution_count": 234,
   "metadata": {},
   "outputs": [
    {
     "name": "stdout",
     "output_type": "stream",
     "text": [
      "FLUX.1\n",
      "FLUX.3\n",
      "FLUX.9\n",
      "FLUX.11\n",
      "FLUX.12\n",
      "FLUX.13\n",
      "FLUX.15\n",
      "FLUX.19\n",
      "FLUX.25\n",
      "FLUX.36\n",
      "FLUX.37\n",
      "FLUX.40\n",
      "FLUX.41\n",
      "FLUX.45\n",
      "FLUX.52\n",
      "FLUX.73\n",
      "FLUX.75\n",
      "FLUX.84\n",
      "FLUX.85\n",
      "FLUX.86\n",
      "FLUX.96\n",
      "FLUX.97\n",
      "FLUX.98\n",
      "FLUX.102\n",
      "FLUX.103\n",
      "FLUX.110\n",
      "FLUX.112\n",
      "FLUX.118\n",
      "FLUX.131\n",
      "FLUX.135\n",
      "FLUX.136\n",
      "FLUX.139\n",
      "FLUX.143\n",
      "FLUX.148\n",
      "FLUX.156\n",
      "FLUX.159\n",
      "FLUX.161\n",
      "FLUX.168\n",
      "FLUX.173\n",
      "FLUX.183\n",
      "FLUX.188\n",
      "FLUX.191\n",
      "FLUX.192\n",
      "FLUX.206\n",
      "FLUX.208\n",
      "FLUX.212\n",
      "FLUX.215\n",
      "FLUX.216\n",
      "FLUX.217\n",
      "FLUX.221\n",
      "FLUX.226\n",
      "FLUX.230\n",
      "FLUX.233\n",
      "FLUX.235\n",
      "FLUX.244\n",
      "FLUX.245\n",
      "FLUX.252\n",
      "FLUX.255\n",
      "FLUX.287\n",
      "FLUX.295\n",
      "FLUX.299\n",
      "FLUX.307\n",
      "FLUX.310\n",
      "FLUX.315\n",
      "FLUX.321\n",
      "FLUX.328\n",
      "FLUX.329\n",
      "FLUX.340\n",
      "FLUX.354\n",
      "FLUX.355\n",
      "FLUX.360\n",
      "FLUX.367\n",
      "FLUX.369\n",
      "FLUX.375\n",
      "FLUX.384\n",
      "FLUX.386\n",
      "FLUX.388\n",
      "FLUX.393\n",
      "FLUX.397\n",
      "FLUX.412\n",
      "FLUX.414\n",
      "FLUX.415\n",
      "FLUX.417\n",
      "FLUX.425\n",
      "FLUX.428\n",
      "FLUX.442\n",
      "FLUX.444\n",
      "FLUX.451\n",
      "FLUX.460\n",
      "FLUX.461\n",
      "FLUX.489\n",
      "FLUX.501\n",
      "FLUX.507\n",
      "FLUX.512\n",
      "FLUX.516\n",
      "FLUX.521\n",
      "FLUX.524\n",
      "FLUX.525\n",
      "FLUX.527\n",
      "FLUX.529\n",
      "FLUX.530\n",
      "FLUX.536\n",
      "FLUX.548\n",
      "FLUX.550\n",
      "FLUX.556\n",
      "FLUX.558\n",
      "FLUX.559\n",
      "FLUX.569\n",
      "FLUX.584\n",
      "FLUX.588\n",
      "FLUX.589\n",
      "FLUX.606\n",
      "FLUX.611\n",
      "FLUX.615\n",
      "FLUX.620\n",
      "FLUX.627\n",
      "FLUX.628\n",
      "FLUX.636\n",
      "FLUX.638\n",
      "FLUX.639\n",
      "FLUX.641\n",
      "FLUX.651\n",
      "FLUX.658\n",
      "FLUX.672\n",
      "FLUX.680\n",
      "FLUX.682\n",
      "FLUX.686\n",
      "FLUX.695\n",
      "FLUX.699\n",
      "FLUX.700\n",
      "FLUX.709\n",
      "FLUX.710\n",
      "FLUX.719\n",
      "FLUX.723\n",
      "FLUX.730\n",
      "FLUX.738\n",
      "FLUX.739\n",
      "FLUX.740\n",
      "FLUX.744\n",
      "FLUX.749\n",
      "FLUX.759\n",
      "FLUX.771\n",
      "FLUX.779\n",
      "FLUX.781\n",
      "FLUX.784\n",
      "FLUX.790\n",
      "FLUX.796\n",
      "FLUX.806\n",
      "FLUX.813\n",
      "FLUX.816\n",
      "FLUX.818\n",
      "FLUX.829\n",
      "FLUX.830\n",
      "FLUX.839\n",
      "FLUX.850\n",
      "FLUX.857\n",
      "FLUX.863\n",
      "FLUX.864\n",
      "FLUX.866\n",
      "FLUX.870\n",
      "FLUX.874\n",
      "FLUX.879\n",
      "FLUX.882\n",
      "FLUX.884\n",
      "FLUX.900\n",
      "FLUX.906\n",
      "FLUX.913\n",
      "FLUX.914\n",
      "FLUX.917\n",
      "FLUX.927\n",
      "FLUX.931\n",
      "FLUX.938\n",
      "FLUX.941\n",
      "FLUX.948\n",
      "FLUX.949\n",
      "FLUX.957\n",
      "FLUX.966\n",
      "FLUX.984\n",
      "FLUX.987\n",
      "FLUX.993\n",
      "FLUX.999\n",
      "FLUX.1000\n",
      "FLUX.1003\n",
      "FLUX.1016\n",
      "FLUX.1026\n",
      "FLUX.1027\n",
      "FLUX.1028\n",
      "FLUX.1035\n",
      "FLUX.1037\n",
      "FLUX.1038\n",
      "FLUX.1039\n",
      "FLUX.1043\n",
      "FLUX.1046\n",
      "FLUX.1048\n",
      "FLUX.1053\n",
      "FLUX.1066\n",
      "FLUX.1068\n",
      "FLUX.1077\n",
      "FLUX.1082\n",
      "FLUX.1083\n",
      "FLUX.1102\n",
      "FLUX.1105\n",
      "FLUX.1109\n",
      "FLUX.1116\n",
      "FLUX.1121\n",
      "FLUX.1125\n",
      "FLUX.1126\n",
      "FLUX.1148\n",
      "FLUX.1149\n",
      "FLUX.1153\n",
      "FLUX.1172\n",
      "FLUX.1183\n",
      "FLUX.1184\n",
      "FLUX.1186\n",
      "FLUX.1198\n",
      "FLUX.1199\n",
      "FLUX.1219\n",
      "FLUX.1229\n",
      "FLUX.1234\n",
      "FLUX.1238\n",
      "FLUX.1250\n",
      "FLUX.1251\n",
      "FLUX.1273\n",
      "FLUX.1274\n",
      "FLUX.1275\n",
      "FLUX.1279\n",
      "FLUX.1280\n",
      "FLUX.1282\n",
      "FLUX.1285\n",
      "FLUX.1288\n",
      "FLUX.1289\n",
      "FLUX.1297\n",
      "FLUX.1300\n",
      "FLUX.1303\n",
      "FLUX.1306\n",
      "FLUX.1310\n",
      "FLUX.1311\n",
      "FLUX.1321\n",
      "FLUX.1327\n",
      "FLUX.1349\n",
      "FLUX.1351\n",
      "FLUX.1382\n",
      "FLUX.1385\n",
      "FLUX.1391\n",
      "FLUX.1392\n",
      "FLUX.1394\n",
      "FLUX.1399\n",
      "FLUX.1401\n",
      "FLUX.1402\n",
      "FLUX.1407\n",
      "FLUX.1410\n",
      "FLUX.1412\n",
      "FLUX.1415\n",
      "FLUX.1418\n",
      "FLUX.1421\n",
      "FLUX.1436\n",
      "FLUX.1440\n",
      "FLUX.1443\n",
      "FLUX.1448\n",
      "FLUX.1455\n",
      "FLUX.1461\n",
      "FLUX.1463\n",
      "FLUX.1466\n",
      "FLUX.1484\n",
      "FLUX.1486\n",
      "FLUX.1487\n",
      "FLUX.1493\n",
      "FLUX.1495\n",
      "FLUX.1497\n",
      "FLUX.1506\n",
      "FLUX.1508\n",
      "FLUX.1510\n",
      "FLUX.1516\n",
      "FLUX.1517\n",
      "FLUX.1520\n",
      "FLUX.1523\n",
      "FLUX.1531\n",
      "FLUX.1532\n",
      "FLUX.1533\n",
      "FLUX.1535\n",
      "FLUX.1541\n",
      "FLUX.1553\n",
      "FLUX.1572\n",
      "FLUX.1583\n",
      "FLUX.1586\n",
      "FLUX.1588\n",
      "FLUX.1592\n",
      "FLUX.1596\n",
      "FLUX.1597\n",
      "FLUX.1598\n",
      "FLUX.1608\n",
      "FLUX.1609\n",
      "FLUX.1614\n",
      "FLUX.1615\n",
      "FLUX.1616\n",
      "FLUX.1617\n",
      "FLUX.1618\n",
      "FLUX.1620\n",
      "FLUX.1622\n",
      "FLUX.1623\n",
      "FLUX.1624\n",
      "FLUX.1628\n",
      "FLUX.1629\n",
      "FLUX.1632\n",
      "FLUX.1634\n",
      "FLUX.1643\n",
      "FLUX.1645\n",
      "FLUX.1648\n",
      "FLUX.1658\n",
      "FLUX.1664\n",
      "FLUX.1670\n",
      "FLUX.1671\n",
      "FLUX.1674\n",
      "FLUX.1675\n",
      "FLUX.1683\n",
      "FLUX.1692\n",
      "FLUX.1700\n",
      "FLUX.1702\n",
      "FLUX.1708\n",
      "FLUX.1710\n",
      "FLUX.1713\n",
      "FLUX.1714\n",
      "FLUX.1718\n",
      "FLUX.1719\n",
      "FLUX.1725\n",
      "FLUX.1735\n",
      "FLUX.1744\n",
      "FLUX.1749\n",
      "FLUX.1750\n",
      "FLUX.1758\n",
      "FLUX.1772\n",
      "FLUX.1777\n",
      "FLUX.1784\n",
      "FLUX.1787\n",
      "FLUX.1789\n",
      "FLUX.1791\n",
      "FLUX.1810\n",
      "FLUX.1813\n",
      "FLUX.1816\n",
      "FLUX.1821\n",
      "FLUX.1828\n",
      "FLUX.1836\n",
      "FLUX.1842\n",
      "FLUX.1855\n",
      "FLUX.1861\n",
      "FLUX.1865\n",
      "FLUX.1867\n",
      "FLUX.1873\n",
      "FLUX.1875\n",
      "FLUX.1878\n",
      "FLUX.1891\n",
      "FLUX.1897\n",
      "FLUX.1899\n",
      "FLUX.1905\n",
      "FLUX.1908\n",
      "FLUX.1914\n",
      "FLUX.1915\n",
      "FLUX.1925\n",
      "FLUX.1926\n",
      "FLUX.1935\n",
      "FLUX.1939\n",
      "FLUX.1941\n",
      "FLUX.1975\n",
      "FLUX.1979\n",
      "FLUX.1981\n",
      "FLUX.1982\n",
      "FLUX.1997\n",
      "FLUX.1999\n",
      "FLUX.2003\n",
      "FLUX.2007\n",
      "FLUX.2012\n",
      "FLUX.2015\n",
      "FLUX.2016\n",
      "FLUX.2025\n",
      "FLUX.2027\n",
      "FLUX.2055\n",
      "FLUX.2063\n",
      "FLUX.2074\n",
      "FLUX.2095\n",
      "FLUX.2101\n",
      "FLUX.2103\n",
      "FLUX.2104\n",
      "FLUX.2107\n",
      "FLUX.2112\n",
      "FLUX.2113\n",
      "FLUX.2117\n",
      "FLUX.2121\n",
      "FLUX.2124\n",
      "FLUX.2130\n",
      "FLUX.2139\n",
      "FLUX.2142\n",
      "FLUX.2145\n",
      "FLUX.2155\n",
      "FLUX.2159\n",
      "FLUX.2164\n",
      "FLUX.2165\n",
      "FLUX.2167\n",
      "FLUX.2168\n",
      "FLUX.2170\n",
      "FLUX.2177\n",
      "FLUX.2185\n",
      "FLUX.2186\n",
      "FLUX.2204\n",
      "FLUX.2205\n",
      "FLUX.2212\n",
      "FLUX.2229\n",
      "FLUX.2230\n",
      "FLUX.2231\n",
      "FLUX.2249\n",
      "FLUX.2256\n",
      "FLUX.2260\n",
      "FLUX.2265\n",
      "FLUX.2274\n",
      "FLUX.2278\n",
      "FLUX.2279\n",
      "FLUX.2285\n",
      "FLUX.2287\n",
      "FLUX.2294\n",
      "FLUX.2295\n",
      "FLUX.2301\n",
      "FLUX.2303\n",
      "FLUX.2304\n",
      "FLUX.2305\n",
      "FLUX.2306\n",
      "FLUX.2310\n",
      "FLUX.2312\n",
      "FLUX.2314\n",
      "FLUX.2319\n",
      "FLUX.2321\n",
      "FLUX.2324\n",
      "FLUX.2325\n",
      "FLUX.2336\n",
      "FLUX.2338\n",
      "FLUX.2345\n",
      "FLUX.2346\n",
      "FLUX.2347\n",
      "FLUX.2348\n",
      "FLUX.2362\n",
      "FLUX.2372\n",
      "FLUX.2373\n",
      "FLUX.2375\n",
      "FLUX.2376\n",
      "FLUX.2384\n",
      "FLUX.2386\n",
      "FLUX.2387\n",
      "FLUX.2393\n",
      "FLUX.2394\n",
      "FLUX.2428\n",
      "FLUX.2430\n",
      "FLUX.2431\n",
      "FLUX.2432\n",
      "FLUX.2440\n",
      "FLUX.2441\n",
      "FLUX.2443\n",
      "FLUX.2446\n",
      "FLUX.2449\n",
      "FLUX.2454\n",
      "FLUX.2459\n",
      "FLUX.2466\n",
      "FLUX.2477\n",
      "FLUX.2480\n",
      "FLUX.2491\n",
      "FLUX.2492\n",
      "FLUX.2496\n",
      "FLUX.2500\n",
      "FLUX.2515\n",
      "FLUX.2523\n",
      "FLUX.2530\n",
      "FLUX.2537\n",
      "FLUX.2538\n",
      "FLUX.2539\n",
      "FLUX.2548\n",
      "FLUX.2549\n",
      "FLUX.2550\n",
      "FLUX.2561\n",
      "FLUX.2562\n",
      "FLUX.2563\n",
      "FLUX.2570\n",
      "FLUX.2573\n",
      "FLUX.2574\n",
      "FLUX.2603\n",
      "FLUX.2608\n",
      "FLUX.2609\n",
      "FLUX.2611\n",
      "FLUX.2613\n",
      "FLUX.2632\n",
      "FLUX.2634\n",
      "FLUX.2640\n",
      "FLUX.2641\n",
      "FLUX.2647\n",
      "FLUX.2652\n",
      "FLUX.2654\n",
      "FLUX.2661\n",
      "FLUX.2662\n",
      "FLUX.2663\n",
      "FLUX.2665\n",
      "FLUX.2667\n",
      "FLUX.2670\n",
      "FLUX.2675\n",
      "FLUX.2688\n",
      "FLUX.2696\n",
      "FLUX.2698\n",
      "FLUX.2700\n",
      "FLUX.2701\n",
      "FLUX.2703\n",
      "FLUX.2710\n",
      "FLUX.2724\n",
      "FLUX.2727\n",
      "FLUX.2744\n",
      "FLUX.2753\n",
      "FLUX.2763\n",
      "FLUX.2764\n",
      "FLUX.2766\n",
      "FLUX.2767\n",
      "FLUX.2790\n",
      "FLUX.2792\n",
      "FLUX.2797\n",
      "FLUX.2798\n",
      "FLUX.2806\n",
      "FLUX.2813\n",
      "FLUX.2815\n",
      "FLUX.2817\n",
      "FLUX.2818\n",
      "FLUX.2821\n",
      "FLUX.2824\n",
      "FLUX.2837\n",
      "FLUX.2839\n",
      "FLUX.2850\n",
      "FLUX.2852\n",
      "FLUX.2857\n",
      "FLUX.2860\n",
      "FLUX.2862\n",
      "FLUX.2866\n",
      "FLUX.2867\n",
      "FLUX.2869\n",
      "FLUX.2870\n",
      "FLUX.2876\n",
      "FLUX.2877\n",
      "FLUX.2886\n",
      "FLUX.2894\n",
      "FLUX.2895\n",
      "FLUX.2901\n",
      "FLUX.2903\n",
      "FLUX.2905\n",
      "FLUX.2907\n",
      "FLUX.2911\n",
      "FLUX.2915\n",
      "FLUX.2919\n",
      "FLUX.2932\n",
      "FLUX.2935\n",
      "FLUX.2936\n",
      "FLUX.2940\n",
      "FLUX.2943\n",
      "FLUX.2947\n",
      "FLUX.2950\n",
      "FLUX.2954\n",
      "FLUX.2960\n",
      "FLUX.2961\n",
      "FLUX.2973\n",
      "FLUX.2975\n",
      "FLUX.2976\n",
      "FLUX.2988\n",
      "FLUX.2990\n",
      "FLUX.3001\n",
      "FLUX.3010\n",
      "FLUX.3012\n",
      "FLUX.3013\n",
      "FLUX.3022\n",
      "FLUX.3025\n",
      "FLUX.3027\n",
      "FLUX.3029\n",
      "FLUX.3030\n",
      "FLUX.3035\n",
      "FLUX.3037\n",
      "FLUX.3051\n",
      "FLUX.3054\n",
      "FLUX.3056\n",
      "FLUX.3067\n",
      "FLUX.3069\n",
      "FLUX.3078\n",
      "FLUX.3086\n",
      "FLUX.3088\n",
      "FLUX.3100\n",
      "FLUX.3106\n",
      "FLUX.3116\n",
      "FLUX.3117\n",
      "FLUX.3120\n",
      "FLUX.3122\n",
      "FLUX.3126\n",
      "FLUX.3129\n",
      "FLUX.3131\n",
      "FLUX.3153\n",
      "FLUX.3170\n",
      "FLUX.3173\n",
      "FLUX.3179\n",
      "FLUX.3180\n",
      "FLUX.3183\n",
      "FLUX.3195\n"
     ]
    }
   ],
   "source": [
    "j=0\n",
    "for n in range(0, 3197):\n",
    "    if features[\"importance\"][n]>0:\n",
    "        print features[\"columns\"][n]\n",
    "        j=j+1"
   ]
  },
  {
   "cell_type": "code",
   "execution_count": 235,
   "metadata": {},
   "outputs": [
    {
     "name": "stdout",
     "output_type": "stream",
     "text": [
      "598\n"
     ]
    }
   ],
   "source": [
    "print j"
   ]
  },
  {
   "cell_type": "code",
   "execution_count": null,
   "metadata": {
    "collapsed": true
   },
   "outputs": [],
   "source": []
  }
 ],
 "metadata": {
  "kernelspec": {
   "display_name": "Python 2",
   "language": "python",
   "name": "python2"
  },
  "language_info": {
   "codemirror_mode": {
    "name": "ipython",
    "version": 2
   },
   "file_extension": ".py",
   "mimetype": "text/x-python",
   "name": "python",
   "nbconvert_exporter": "python",
   "pygments_lexer": "ipython2",
   "version": "2.7.13"
  }
 },
 "nbformat": 4,
 "nbformat_minor": 2
}
